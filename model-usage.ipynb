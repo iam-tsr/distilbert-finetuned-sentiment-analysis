{
 "cells": [
  {
   "cell_type": "markdown",
   "id": "5156ae57",
   "metadata": {},
   "source": [
    "# Deployed Model Usage"
   ]
  },
  {
   "cell_type": "code",
   "execution_count": 3,
   "id": "1c740a42",
   "metadata": {},
   "outputs": [],
   "source": [
    "from gradio_client import Client\n",
    "\n",
    "def analyze_sentiment(text):\n",
    "    client = Client(\"im-tsr/sentiment-analysis\")\n",
    "    result = client.predict(\n",
    "            text=text,\n",
    "            api_name=\"/process_sentiment\"\n",
    "    )\n",
    "    \n",
    "    pos = result[0].split('>')[1].split('%')[0]\n",
    "    neg = result[1].split('>')[1].split('%')[0]\n",
    "    neu = result[2].split('>')[1].split('%')[0]\n",
    "\n",
    "    sentiment_dict = {\"POSITIVE\": float(pos), \"NEUTRAL\": float(neg), \"NEGATIVE\": float(neu)}\n",
    "\n",
    "    highest = max(sentiment_dict.items(), key=lambda x: x[1])\n",
    "\n",
    "    return {'label': highest[0].upper(), 'score': highest[1]}"
   ]
  },
  {
   "cell_type": "code",
   "execution_count": 4,
   "id": "1a2448b2",
   "metadata": {},
   "outputs": [
    {
     "name": "stdout",
     "output_type": "stream",
     "text": [
      "Loaded as API: https://im-tsr-sentiment-analysis.hf.space ✔\n"
     ]
    },
    {
     "data": {
      "text/plain": [
       "{'label': 'POSITIVE', 'score': 83.7}"
      ]
     },
     "execution_count": 4,
     "metadata": {},
     "output_type": "execute_result"
    }
   ],
   "source": [
    "analyze_sentiment(\"I love programming in Python!\")"
   ]
  }
 ],
 "metadata": {
  "kernelspec": {
   "display_name": "torch",
   "language": "python",
   "name": "python3"
  },
  "language_info": {
   "codemirror_mode": {
    "name": "ipython",
    "version": 3
   },
   "file_extension": ".py",
   "mimetype": "text/x-python",
   "name": "python",
   "nbconvert_exporter": "python",
   "pygments_lexer": "ipython3",
   "version": "3.12.0"
  }
 },
 "nbformat": 4,
 "nbformat_minor": 5
}
