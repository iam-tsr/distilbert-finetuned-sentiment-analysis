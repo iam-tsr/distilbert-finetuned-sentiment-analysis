{
 "cells": [
  {
   "cell_type": "markdown",
   "id": "5156ae57",
   "metadata": {},
   "source": [
    "# Model Usage"
   ]
  },
  {
   "cell_type": "code",
   "execution_count": 2,
   "id": "1c740a42",
   "metadata": {},
   "outputs": [],
   "source": [
    "import torch\n",
    "import transformers\n",
    "from transformers import pipeline\n",
    "\n",
    "def get_sentiment(text):\n",
    "    #Set to avoid warning messages.\n",
    "    transformers.logging.set_verbosity_error()\n",
    "    sentiment_classifier = pipeline(task=\"text-classification\",\n",
    "                                    model=\"iam-tsr/distilbert-finetuned-sentiment-analysis\",\n",
    "                                    tokenizer=\"iam-tsr/distilbert-finetuned-sentiment-analysis\",)\n",
    "\n",
    "    return sentiment_classifier(text)"
   ]
  },
  {
   "cell_type": "code",
   "execution_count": 3,
   "id": "1a2448b2",
   "metadata": {},
   "outputs": [
    {
     "data": {
      "text/plain": [
       "[{'label': 'POSITIVE', 'score': 0.9759756326675415}]"
      ]
     },
     "execution_count": 3,
     "metadata": {},
     "output_type": "execute_result"
    }
   ],
   "source": [
    "get_sentiment(\"I love programming!\")\n",
    "#[{'label': 'POSITIVE', 'score': 0.9759756326675415}]"
   ]
  }
 ],
 "metadata": {
  "kernelspec": {
   "display_name": "torch",
   "language": "python",
   "name": "python3"
  },
  "language_info": {
   "codemirror_mode": {
    "name": "ipython",
    "version": 3
   },
   "file_extension": ".py",
   "mimetype": "text/x-python",
   "name": "python",
   "nbconvert_exporter": "python",
   "pygments_lexer": "ipython3",
   "version": "3.12.0"
  }
 },
 "nbformat": 4,
 "nbformat_minor": 5
}
