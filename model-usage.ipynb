{
 "cells": [
  {
   "cell_type": "markdown",
   "id": "5156ae57",
   "metadata": {},
   "source": [
    "# Model Usage"
   ]
  },
  {
   "cell_type": "code",
   "execution_count": 3,
   "id": "1c740a42",
   "metadata": {},
   "outputs": [],
   "source": [
    "import torch\n",
    "from transformers import AutoTokenizer\n",
    "from transformers import AutoModelForSequenceClassification\n",
    "\n",
    "tokenizer = AutoTokenizer.from_pretrained(\"im-tsr/distilbert-finetuned-youtube_sentiment_analysis\")\n",
    "\n",
    "model = AutoModelForSequenceClassification.from_pretrained(\"im-tsr/distilbert-finetuned-youtube_sentiment_analysis\")\n",
    "\n",
    "def hf_predict_sentiment(text):\n",
    "    # Tokenize the text\n",
    "    tokens = tokenizer(text, return_tensors=\"pt\", padding=True, truncation=True, max_length=128)\n",
    "    \n",
    "    # Set model to evaluation model\n",
    "    model.eval()\n",
    "    with torch.no_grad():\n",
    "        tokens = {key: val.to(model.device) for key, val in tokens.items()}\n",
    "        output = model(**tokens)\n",
    "        prediction = torch.argmax(output.logits, dim=1).item()\n",
    "    \n",
    "    label_map = {0: \"NEUTRAL\", 1: \"POSITIVE\", 2: \"NEGATIVE\"}\n",
    "    return label_map[prediction]"
   ]
  },
  {
   "cell_type": "code",
   "execution_count": 2,
   "id": "1a2448b2",
   "metadata": {},
   "outputs": [
    {
     "data": {
      "text/plain": [
       "'POSITIVE'"
      ]
     },
     "execution_count": 2,
     "metadata": {},
     "output_type": "execute_result"
    }
   ],
   "source": [
    "hf_predict_sentiment(\"I love this product! It's absolutely wonderful.\")\n",
    "# 'POSITIVE'"
   ]
  }
 ],
 "metadata": {
  "kernelspec": {
   "display_name": "torch",
   "language": "python",
   "name": "python3"
  },
  "language_info": {
   "codemirror_mode": {
    "name": "ipython",
    "version": 3
   },
   "file_extension": ".py",
   "mimetype": "text/x-python",
   "name": "python",
   "nbconvert_exporter": "python",
   "pygments_lexer": "ipython3",
   "version": "3.12.0"
  }
 },
 "nbformat": 4,
 "nbformat_minor": 5
}
